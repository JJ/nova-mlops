{
 "cells": [
  {
   "cell_type": "code",
   "execution_count": 2,
   "id": "83512fa1",
   "metadata": {},
   "outputs": [],
   "source": [
    "import nova_mlops"
   ]
  },
  {
   "cell_type": "code",
   "execution_count": 6,
   "id": "86cda087",
   "metadata": {},
   "outputs": [],
   "source": [
    "from nova_mlops import go"
   ]
  },
  {
   "cell_type": "code",
   "execution_count": 7,
   "id": "7d3ca1ac",
   "metadata": {},
   "outputs": [
    {
     "data": {
      "application/vnd.jupyter.widget-view+json": {
       "model_id": "2908855ebe9249df8ad4ead81d160d8e",
       "version_major": 2,
       "version_minor": 0
      },
      "text/plain": [
       "VBox(children=(HBox(children=(TukeyAnscombeWidget({\n",
       "    'data': [{'hovertemplate': 'Split=train<br>Predictions…"
      ]
     },
     "metadata": {},
     "output_type": "display_data"
    }
   ],
   "source": [
    "go()"
   ]
  },
  {
   "cell_type": "code",
   "execution_count": null,
   "id": "a1ea4204",
   "metadata": {},
   "outputs": [],
   "source": []
  }
 ],
 "metadata": {
  "kernelspec": {
   "display_name": "Python 3 (ipykernel)",
   "language": "python",
   "name": "python3"
  },
  "language_info": {
   "codemirror_mode": {
    "name": "ipython",
    "version": 3
   },
   "file_extension": ".py",
   "mimetype": "text/x-python",
   "name": "python",
   "nbconvert_exporter": "python",
   "pygments_lexer": "ipython3",
   "version": "3.9.13"
  }
 },
 "nbformat": 4,
 "nbformat_minor": 5
}
